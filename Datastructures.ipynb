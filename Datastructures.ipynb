{
  "nbformat": 4,
  "nbformat_minor": 0,
  "metadata": {
    "colab": {
      "name": "Datastructures.ipynb",
      "version": "0.3.2",
      "provenance": [],
      "collapsed_sections": []
    },
    "kernelspec": {
      "name": "python3",
      "display_name": "Python 3"
    }
  },
  "cells": [
    {
      "cell_type": "markdown",
      "metadata": {
        "id": "Af4qO1mN1T8P",
        "colab_type": "text"
      },
      "source": [
        "#### Binary Search Algo\n",
        "\n",
        "Can be Applied only on sorted list <br>\n",
        "Can be applied only on Unique list\n"
      ]
    },
    {
      "cell_type": "code",
      "metadata": {
        "id": "OEsu1-xs1ee7",
        "colab_type": "code",
        "outputId": "dd27ade8-2375-41d0-9f82-75c02538ff52",
        "colab": {
          "base_uri": "https://localhost:8080/",
          "height": 35
        }
      },
      "source": [
        "def binarySearch(a,lIndex,rIndex,tarItem):\n",
        "    while lIndex <= rIndex:\n",
        "        mIndex = lIndex + (rIndex-lIndex)//2;\n",
        "        if a[mIndex] == tarItem:\n",
        "            return mIndex\n",
        "        if a[mIndex] > tarItem :\n",
        "            rIndex = mIndex - 1\n",
        "        else:\n",
        "            lIndex = mIndex + 1\n",
        "    return -1\n",
        "list1 = [1,4,9,15,25,45,57,88,98]\n",
        "res = binarySearch(list1,0,8,818)\n",
        "if res != -1:\n",
        "    print(\"Item is found\")\n",
        "else:\n",
        "    print(\"Item is not found\")"
      ],
      "execution_count": 0,
      "outputs": [
        {
          "output_type": "stream",
          "text": [
            "Item is not found\n"
          ],
          "name": "stdout"
        }
      ]
    },
    {
      "cell_type": "markdown",
      "metadata": {
        "id": "C5YsGNz--Ew2",
        "colab_type": "text"
      },
      "source": [
        "### Bubble Sort\n",
        "\n",
        "It compares the adj items, if the first item is greater <br>than second item then there would required of swap the items<br>\n",
        "\n",
        "\n",
        "The complex - n * n\n",
        "\n",
        "\n"
      ]
    },
    {
      "cell_type": "code",
      "metadata": {
        "id": "4JkombUJ-ZKW",
        "colab_type": "code",
        "outputId": "cecf74c3-bdbe-434f-c85a-9d9a08dfbdc2",
        "colab": {
          "base_uri": "https://localhost:8080/",
          "height": 35
        }
      },
      "source": [
        "def bubbleSort(a):\n",
        "    for i in range(len(a)-1):\n",
        "        for j in range(len(a)-1):\n",
        "            if a[j] > a[j+1]:\n",
        "                a[j],a[j+1] = a[j+1],a[j]\n",
        "                \n",
        "    for i in range(len(a)):\n",
        "        print(a[i],end=\" \")\n",
        "\n",
        "lst1 = [19,1,25,6,18,3]\n",
        "#bubbleSort(lst1)\n",
        "lst1.sort()\n",
        "print(lst1)"
      ],
      "execution_count": 0,
      "outputs": [
        {
          "output_type": "stream",
          "text": [
            "[1, 3, 6, 18, 19, 25]\n"
          ],
          "name": "stdout"
        }
      ]
    },
    {
      "cell_type": "markdown",
      "metadata": {
        "id": "JlKAzv2XCFDy",
        "colab_type": "text"
      },
      "source": [
        "### Strings in Python\n",
        "\n",
        "A string is  a sequence of characters <br>\n",
        "\n",
        "The conversion of character to a number is happens with ASCII Number\n",
        "\n",
        "ASCII Numbers: <br>\n",
        "\n",
        "A - Z            -------------- 65 - 90 <br>\n",
        "a - z             -------------  97 -122<br>\n",
        "0 - 9            -------------  48 -57\n"
      ]
    },
    {
      "cell_type": "code",
      "metadata": {
        "id": "1G3eXmreCH-q",
        "colab_type": "code",
        "outputId": "1e8e26b1-7d6b-4eec-94be-1238fadc3ba1",
        "colab": {
          "base_uri": "https://localhost:8080/",
          "height": 158
        }
      },
      "source": [
        "# Creating a string\n",
        "str = \"Application\"\n",
        "print(str)\n",
        "\n",
        "str1 = 'Application'\n",
        "print(str1)\n",
        "\n",
        "str2 = \"\"\" Application Test\n",
        "        working\n",
        "        Completed \n",
        "        List \n",
        "        Strings\n",
        "        Python \"\"\"\n",
        "print(str2)"
      ],
      "execution_count": 0,
      "outputs": [
        {
          "output_type": "stream",
          "text": [
            "Application\n",
            "Application\n",
            " Application Test\n",
            "        working\n",
            "        Completed \n",
            "        List \n",
            "        Strings\n",
            "        Python \n"
          ],
          "name": "stdout"
        }
      ]
    },
    {
      "cell_type": "code",
      "metadata": {
        "id": "afbI4YBTEgGo",
        "colab_type": "code",
        "outputId": "d0822def-1a27-44d1-a3a5-5f0ddcced7a6",
        "colab": {
          "base_uri": "https://localhost:8080/",
          "height": 175
        }
      },
      "source": [
        "str = \"Application\"\n",
        "print(str)\n",
        "print(\"str[0]  = \",str[0])\n",
        "print(\"str[1]  = \",str[1])\n",
        "print(\"str[-1] = \",str[-1])\n",
        "print(\"str[-3] = \",str[-3])\n",
        "print(\"str[1:5]= \",str[1:5])\n",
        "print(\"str[:5] = \",str[:5])\n",
        "print(\"str[5:-2] = \",str[5:-2])\n",
        "print(\"str[::-1]= \",str[::-1])#Used for reverse the string"
      ],
      "execution_count": 0,
      "outputs": [
        {
          "output_type": "stream",
          "text": [
            "Application\n",
            "str[0]  =  A\n",
            "str[1]  =  p\n",
            "str[-1] =  n\n",
            "str[-3] =  i\n",
            "str[1:5]=  ppli\n",
            "str[:5] =  Appli\n",
            "str[5:-2] =  cati\n",
            "str[::-1]=  noitacilppA\n"
          ],
          "name": "stdout"
        }
      ]
    },
    {
      "cell_type": "markdown",
      "metadata": {
        "id": "WYPG7FUtN9qc",
        "colab_type": "text"
      },
      "source": [
        "### Palidrome of String"
      ]
    },
    {
      "cell_type": "code",
      "metadata": {
        "id": "24rfSIWOOB2-",
        "colab_type": "code",
        "outputId": "1b2282c6-1f0e-4724-efbd-eb014be2dca3",
        "colab": {
          "base_uri": "https://localhost:8080/",
          "height": 52
        }
      },
      "source": [
        "def isPalindrome(s):\n",
        "    if s == s[::-1]:\n",
        "        return True\n",
        "    else:\n",
        "        return False\n",
        "    \n",
        "\n",
        "print(isPalindrome(\"Python\"))\n",
        "print(isPalindrome(\"jalaj\"))"
      ],
      "execution_count": 0,
      "outputs": [
        {
          "output_type": "stream",
          "text": [
            "False\n",
            "True\n"
          ],
          "name": "stdout"
        }
      ]
    },
    {
      "cell_type": "code",
      "metadata": {
        "id": "mjDYKrTePU7C",
        "colab_type": "code",
        "outputId": "a9d6892a-b48e-4298-9a94-1c6a8438c9c1",
        "colab": {
          "base_uri": "https://localhost:8080/",
          "height": 52
        }
      },
      "source": [
        "# count the digits of a number\n",
        "n = int(input(\"Enter a number\"))\n",
        "cnt = 0\n",
        "while n != 0:\n",
        "    cnt = cnt  + 1;\n",
        "    n = n // 10;\n",
        "    \n",
        "print(cnt)"
      ],
      "execution_count": 0,
      "outputs": [
        {
          "output_type": "stream",
          "text": [
            "Enter a number14978\n",
            "5\n"
          ],
          "name": "stdout"
        }
      ]
    },
    {
      "cell_type": "code",
      "metadata": {
        "id": "3osHf1TuPwLG",
        "colab_type": "code",
        "outputId": "da74cf07-670a-435d-a374-8b01e0503922",
        "colab": {
          "base_uri": "https://localhost:8080/",
          "height": 308
        }
      },
      "source": [
        "def countDigits(n):\n",
        "    return len(str(n))\n",
        "\n",
        "countDigits(1245)"
      ],
      "execution_count": 0,
      "outputs": [
        {
          "output_type": "error",
          "ename": "TypeError",
          "evalue": "ignored",
          "traceback": [
            "\u001b[0;31m---------------------------------------------------------------------------\u001b[0m",
            "\u001b[0;31mTypeError\u001b[0m                                 Traceback (most recent call last)",
            "\u001b[0;32m<ipython-input-35-25a0d3bcab00>\u001b[0m in \u001b[0;36m<module>\u001b[0;34m()\u001b[0m\n\u001b[1;32m      2\u001b[0m     \u001b[0;32mreturn\u001b[0m \u001b[0mlen\u001b[0m\u001b[0;34m(\u001b[0m\u001b[0mstr\u001b[0m\u001b[0;34m(\u001b[0m\u001b[0mn\u001b[0m\u001b[0;34m)\u001b[0m\u001b[0;34m)\u001b[0m\u001b[0;34m\u001b[0m\u001b[0;34m\u001b[0m\u001b[0m\n\u001b[1;32m      3\u001b[0m \u001b[0;34m\u001b[0m\u001b[0m\n\u001b[0;32m----> 4\u001b[0;31m \u001b[0mcountDigits\u001b[0m\u001b[0;34m(\u001b[0m\u001b[0;36m1245\u001b[0m\u001b[0;34m)\u001b[0m\u001b[0;34m\u001b[0m\u001b[0;34m\u001b[0m\u001b[0m\n\u001b[0m",
            "\u001b[0;32m<ipython-input-35-25a0d3bcab00>\u001b[0m in \u001b[0;36mcountDigits\u001b[0;34m(n)\u001b[0m\n\u001b[1;32m      1\u001b[0m \u001b[0;32mdef\u001b[0m \u001b[0mcountDigits\u001b[0m\u001b[0;34m(\u001b[0m\u001b[0mn\u001b[0m\u001b[0;34m)\u001b[0m\u001b[0;34m:\u001b[0m\u001b[0;34m\u001b[0m\u001b[0;34m\u001b[0m\u001b[0m\n\u001b[0;32m----> 2\u001b[0;31m     \u001b[0;32mreturn\u001b[0m \u001b[0mlen\u001b[0m\u001b[0;34m(\u001b[0m\u001b[0mstr\u001b[0m\u001b[0;34m(\u001b[0m\u001b[0mn\u001b[0m\u001b[0;34m)\u001b[0m\u001b[0;34m)\u001b[0m\u001b[0;34m\u001b[0m\u001b[0;34m\u001b[0m\u001b[0m\n\u001b[0m\u001b[1;32m      3\u001b[0m \u001b[0;34m\u001b[0m\u001b[0m\n\u001b[1;32m      4\u001b[0m \u001b[0mcountDigits\u001b[0m\u001b[0;34m(\u001b[0m\u001b[0;36m1245\u001b[0m\u001b[0;34m)\u001b[0m\u001b[0;34m\u001b[0m\u001b[0;34m\u001b[0m\u001b[0m\n",
            "\u001b[0;31mTypeError\u001b[0m: 'str' object is not callable"
          ]
        }
      ]
    },
    {
      "cell_type": "code",
      "metadata": {
        "id": "E0YUIhL2QkQd",
        "colab_type": "code",
        "outputId": "608e8018-74ac-482f-c5b4-dbbb02d2cc00",
        "colab": {
          "base_uri": "https://localhost:8080/",
          "height": 35
        }
      },
      "source": [
        "def countOfChars(str):\n",
        "    return len(str)\n",
        "countOfChars(\"Application\")"
      ],
      "execution_count": 0,
      "outputs": [
        {
          "output_type": "execute_result",
          "data": {
            "text/plain": [
              "11"
            ]
          },
          "metadata": {
            "tags": []
          },
          "execution_count": 33
        }
      ]
    },
    {
      "cell_type": "code",
      "metadata": {
        "id": "AmP0RjoFRYDh",
        "colab_type": "code",
        "outputId": "27396377-2d4c-4448-cab2-c878b8a38de0",
        "colab": {
          "base_uri": "https://localhost:8080/",
          "height": 35
        }
      },
      "source": [
        "def countDigits(n):\n",
        "    return len(n)\n",
        "\n",
        "countDigits(\"25410\")"
      ],
      "execution_count": 0,
      "outputs": [
        {
          "output_type": "execute_result",
          "data": {
            "text/plain": [
              "5"
            ]
          },
          "metadata": {
            "tags": []
          },
          "execution_count": 38
        }
      ]
    },
    {
      "cell_type": "code",
      "metadata": {
        "id": "H3k1W3EDUFre",
        "colab_type": "code",
        "outputId": "b8b984a3-7d92-4646-f0b7-55f95f4f8f6d",
        "colab": {
          "base_uri": "https://localhost:8080/",
          "height": 34
        }
      },
      "source": [
        "# String - Converts - List -- Len of the list\n",
        "def count(str):\n",
        "    lst1 = list(str)\n",
        "    return len(lst1)\n",
        "count(\"App\")"
      ],
      "execution_count": 42,
      "outputs": [
        {
          "output_type": "execute_result",
          "data": {
            "text/plain": [
              "3"
            ]
          },
          "metadata": {
            "tags": []
          },
          "execution_count": 42
        }
      ]
    },
    {
      "cell_type": "markdown",
      "metadata": {
        "id": "yI-B_BuOSG-4",
        "colab_type": "text"
      },
      "source": [
        "### String Examples\n",
        "\n",
        "\n",
        "Test cases:-\n",
        "\n",
        "AppLication                        --               2<br>\n",
        "TeST                                    --               3\n"
      ]
    },
    {
      "cell_type": "code",
      "metadata": {
        "id": "bCPmGwfHSUoj",
        "colab_type": "code",
        "colab": {
          "base_uri": "https://localhost:8080/",
          "height": 50
        },
        "outputId": "5d96abd1-838b-4833-aa91-1dffa2a61e41"
      },
      "source": [
        "def countUpperCase(str):\n",
        "    cnt = 0\n",
        "    lst = list(str)\n",
        "    for x in range(len(lst)):\n",
        "        if ord(lst[x]) >= 65 and ord(lst[x]) <= 90:\n",
        "            cnt = cnt + 1\n",
        "    return cnt\n",
        "\n",
        "print(countUpperCase(\"AppLication\"))\n",
        "print(countUpperCase(\"TeST\"))"
      ],
      "execution_count": 43,
      "outputs": [
        {
          "output_type": "stream",
          "text": [
            "2\n",
            "3\n"
          ],
          "name": "stdout"
        }
      ]
    },
    {
      "cell_type": "code",
      "metadata": {
        "id": "UckTYiDBb1NB",
        "colab_type": "code",
        "colab": {
          "base_uri": "https://localhost:8080/",
          "height": 50
        },
        "outputId": "44f28ac8-f7b9-4add-a265-4c64688e05a7"
      },
      "source": [
        "def countUpperCase(str):\n",
        "    cnt = 0\n",
        "    lst = list(str)\n",
        "    for x in range(len(lst)):\n",
        "        if lst[x] >= 'A' and lst[x] <= 'Z':\n",
        "            cnt = cnt + 1\n",
        "    return cnt\n",
        "\n",
        "print(countUpperCase(\"AppLication\")) #2\n",
        "print(countUpperCase(\"TeST\")) #3"
      ],
      "execution_count": 45,
      "outputs": [
        {
          "output_type": "stream",
          "text": [
            "2\n",
            "3\n"
          ],
          "name": "stdout"
        }
      ]
    },
    {
      "cell_type": "markdown",
      "metadata": {
        "id": "_F3FlC2PZ_tt",
        "colab_type": "text"
      },
      "source": [
        "#### Print of Digits in a string\n",
        "\n",
        "Test Cases :\n",
        "\n",
        "Application1889              --    1889 <br>\n",
        "Te1520st                          --     1520\n"
      ]
    },
    {
      "cell_type": "code",
      "metadata": {
        "id": "AUxuzL3saMo3",
        "colab_type": "code",
        "colab": {
          "base_uri": "https://localhost:8080/",
          "height": 34
        },
        "outputId": "854383fd-9fb3-4f40-86d3-2bd5bed3a6e0"
      },
      "source": [
        "def printDigits(str):\n",
        "    lst = list(str)\n",
        "    for x in range(len(lst)):\n",
        "        if ord(lst[x]) >= 48 and ord(lst[x]) <= 57:\n",
        "            print(lst[x],end=\"\")\n",
        "    \n",
        "printDigits(\"Application1889\")"
      ],
      "execution_count": 52,
      "outputs": [
        {
          "output_type": "stream",
          "text": [
            "1889"
          ],
          "name": "stdout"
        }
      ]
    },
    {
      "cell_type": "markdown",
      "metadata": {
        "id": "b-fZt4WBhJAJ",
        "colab_type": "text"
      },
      "source": [
        "#### Strings -- You need to add the digits in the given string\n",
        "\n",
        "Test cases:\n",
        "\n",
        "Application189     --- 18 <br>\n",
        "te1871st                --- 17                 \n",
        "\n",
        "\n"
      ]
    },
    {
      "cell_type": "code",
      "metadata": {
        "id": "CxZkZasihYBi",
        "colab_type": "code",
        "colab": {
          "base_uri": "https://localhost:8080/",
          "height": 34
        },
        "outputId": "d93a8d3a-d5a2-4447-9223-b8bc6d7800d0"
      },
      "source": [
        "def sumofDigits(str):\n",
        "    sum = 0\n",
        "    lst = list(str)\n",
        "    for x in range(len(lst)):\n",
        "        if ord(lst[x]) >= 48 and ord(lst[x]) <= 57:\n",
        "            sum = sum + ord(lst[x]) - 48;\n",
        "        \n",
        "    return sum\n",
        "sumofDigits(\"Application1889\")\n",
        "            "
      ],
      "execution_count": 53,
      "outputs": [
        {
          "output_type": "execute_result",
          "data": {
            "text/plain": [
              "26"
            ]
          },
          "metadata": {
            "tags": []
          },
          "execution_count": 53
        }
      ]
    },
    {
      "cell_type": "markdown",
      "metadata": {
        "id": "T369XVTu3LAk",
        "colab_type": "text"
      },
      "source": [
        "### Strings -- Add only even digits to sum\n",
        "\n",
        "\n",
        "Test Cases:-\n",
        "\n",
        "Application1889                ----   16 <br>\n",
        "Te1591st                            ----     0<br>\n",
        "Wor7852king                     ----    10<br>\n",
        "\n",
        "\n"
      ]
    },
    {
      "cell_type": "code",
      "metadata": {
        "id": "o9MF-KUN3d5I",
        "colab_type": "code",
        "colab": {
          "base_uri": "https://localhost:8080/",
          "height": 50
        },
        "outputId": "03eee338-be4b-449b-8a25-2c6d7c34b2c1"
      },
      "source": [
        "def sumOnlyEvenDigits(str):\n",
        "    sum = 0\n",
        "    lst = list(str)\n",
        "    for x in range(len(lst)):\n",
        "        if ord(lst[x]) >= 48 and ord(lst[x]) <= 57:\n",
        "            ac = ord(lst[x]) - 48\n",
        "            if(ac%2==0):\n",
        "                sum = sum + ac\n",
        "    return sum\n",
        "\n",
        "print(sumOnlyEvenDigits(\"Application1889\"))\n",
        "print(sumOnlyEvenDigits(\"Te1574s69t\"))"
      ],
      "execution_count": 55,
      "outputs": [
        {
          "output_type": "stream",
          "text": [
            "16\n",
            "10\n"
          ],
          "name": "stdout"
        }
      ]
    },
    {
      "cell_type": "markdown",
      "metadata": {
        "id": "oJzdW7aq8bJ0",
        "colab_type": "text"
      },
      "source": [
        "### String character conversion\n",
        "\n",
        "If  the input character is Upper case charater and covert lower case <br>\n",
        "If the inpute character is lower case character and then convert upper case."
      ]
    },
    {
      "cell_type": "code",
      "metadata": {
        "id": "0LzNf65u8xVA",
        "colab_type": "code",
        "colab": {}
      },
      "source": [
        ""
      ],
      "execution_count": 0,
      "outputs": []
    }
  ]
}